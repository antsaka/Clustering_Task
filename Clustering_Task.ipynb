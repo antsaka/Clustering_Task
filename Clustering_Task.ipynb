{
  "nbformat": 4,
  "nbformat_minor": 0,
  "metadata": {
    "colab": {
      "provenance": []
    },
    "kernelspec": {
      "name": "python3",
      "display_name": "Python 3"
    },
    "language_info": {
      "name": "python"
    }
  },
  "cells": [
    {
      "cell_type": "markdown",
      "source": [
        "1.Import Libraries"
      ],
      "metadata": {
        "id": "ze0P_5cgt2Hi"
      }
    },
    {
      "cell_type": "code",
      "execution_count": 1,
      "metadata": {
        "id": "eSxW3vOOtoQ7"
      },
      "outputs": [],
      "source": [
        "import pandas as pd\n",
        "import numpy as np\n",
        "import seaborn as sns\n",
        "import matplotlib.pyplot as plt\n",
        "%matplotlib inline"
      ]
    },
    {
      "cell_type": "markdown",
      "source": [
        "2.Import Files"
      ],
      "metadata": {
        "id": "d8MBOWTst6aV"
      }
    },
    {
      "cell_type": "code",
      "source": [
        "from google.colab import files\n",
        "files.upload()"
      ],
      "metadata": {
        "id": "rs0Mi_Obt8rC"
      },
      "execution_count": null,
      "outputs": []
    },
    {
      "cell_type": "markdown",
      "source": [],
      "metadata": {
        "id": "4L-cAscFuHyp"
      }
    },
    {
      "cell_type": "markdown",
      "source": [
        "3.Membaca file"
      ],
      "metadata": {
        "id": "ZbIBW4SSuH8w"
      }
    },
    {
      "cell_type": "code",
      "source": [
        "df = pd.read_excel('CustomerSegmentation-HDG.xlsx')\n",
        "print(df)"
      ],
      "metadata": {
        "colab": {
          "base_uri": "https://localhost:8080/"
        },
        "id": "969Bcb1KuNKa",
        "outputId": "4e3fe42c-bf35-4f61-dd0f-7e00d4dbb926"
      },
      "execution_count": 4,
      "outputs": [
        {
          "output_type": "stream",
          "name": "stdout",
          "text": [
            "    Income  Average_purchases  Last_year_purchases\n",
            "0      7.8               1.59                    5\n",
            "1      1.1               0.63                    1\n",
            "2      7.2               1.03                    6\n",
            "3      8.0               1.43                    5\n",
            "4      1.0               0.35                    2\n",
            "5      1.5               0.66                    2\n",
            "6      9.1               1.96                    5\n",
            "7      0.6               0.41                    1\n",
            "8      0.8               0.60                    2\n",
            "9      8.0               1.54                    9\n",
            "10     5.6               1.72                    8\n",
            "11     6.7               1.37                    6\n",
            "12     6.1               0.70                    4\n",
            "13     6.4               0.71                    4\n",
            "14     5.7               1.64                    8\n",
            "15     6.0               0.73                    4\n",
            "16     0.6               0.37                    2\n",
            "17     1.3               0.55                    1\n",
            "18     8.4               1.99                    7\n",
            "19     6.8               1.20                    8\n",
            "20     3.5               0.89                    4\n",
            "21     1.0               0.57                    1\n",
            "22     6.2               0.75                    4\n",
            "23     1.4               0.75                    2\n",
            "24     5.8               1.09                    5\n",
            "25     9.5               1.61                    8\n",
            "26     8.0               1.51                    8\n",
            "27     1.0               0.49                    2\n",
            "28     5.2               0.99                    5\n",
            "29     9.0               1.90                    6\n",
            "30     0.8               0.29                    1\n",
            "31     9.3               1.42                    5\n",
            "32     6.9               1.07                    9\n",
            "33     4.9               1.33                    6\n",
            "34     6.0               0.86                    4\n",
            "35     0.8               0.50                    1\n",
            "36     7.0               1.21                    5\n",
            "37     5.0               0.93                    5\n",
            "38     5.6               1.41                    9\n",
            "39     3.6               1.28                    6\n"
          ]
        }
      ]
    },
    {
      "cell_type": "markdown",
      "source": [
        "4.Menentukan tipe data atribut"
      ],
      "metadata": {
        "id": "9XNm37mCuw7V"
      }
    },
    {
      "cell_type": "code",
      "source": [
        "df.dtypes"
      ],
      "metadata": {
        "colab": {
          "base_uri": "https://localhost:8080/"
        },
        "id": "PkDIMWebu0eP",
        "outputId": "e12be635-c86f-40df-a06e-88450bb6f69c"
      },
      "execution_count": 5,
      "outputs": [
        {
          "output_type": "execute_result",
          "data": {
            "text/plain": [
              "Income                 float64\n",
              "Average_purchases      float64\n",
              "Last_year_purchases      int64\n",
              "dtype: object"
            ]
          },
          "metadata": {},
          "execution_count": 5
        }
      ]
    },
    {
      "cell_type": "markdown",
      "source": [
        "5.Menentukan jumlah missing data"
      ],
      "metadata": {
        "id": "eJwG5ekIvBBC"
      }
    },
    {
      "cell_type": "code",
      "source": [
        "df.isna()"
      ],
      "metadata": {
        "colab": {
          "base_uri": "https://localhost:8080/",
          "height": 1000
        },
        "id": "ModyIn7UvDAp",
        "outputId": "c9da288a-53e4-4d1d-ddd0-c1f09a2ddfa4"
      },
      "execution_count": 6,
      "outputs": [
        {
          "output_type": "execute_result",
          "data": {
            "text/plain": [
              "    Income  Average_purchases  Last_year_purchases\n",
              "0    False              False                False\n",
              "1    False              False                False\n",
              "2    False              False                False\n",
              "3    False              False                False\n",
              "4    False              False                False\n",
              "5    False              False                False\n",
              "6    False              False                False\n",
              "7    False              False                False\n",
              "8    False              False                False\n",
              "9    False              False                False\n",
              "10   False              False                False\n",
              "11   False              False                False\n",
              "12   False              False                False\n",
              "13   False              False                False\n",
              "14   False              False                False\n",
              "15   False              False                False\n",
              "16   False              False                False\n",
              "17   False              False                False\n",
              "18   False              False                False\n",
              "19   False              False                False\n",
              "20   False              False                False\n",
              "21   False              False                False\n",
              "22   False              False                False\n",
              "23   False              False                False\n",
              "24   False              False                False\n",
              "25   False              False                False\n",
              "26   False              False                False\n",
              "27   False              False                False\n",
              "28   False              False                False\n",
              "29   False              False                False\n",
              "30   False              False                False\n",
              "31   False              False                False\n",
              "32   False              False                False\n",
              "33   False              False                False\n",
              "34   False              False                False\n",
              "35   False              False                False\n",
              "36   False              False                False\n",
              "37   False              False                False\n",
              "38   False              False                False\n",
              "39   False              False                False"
            ],
            "text/html": [
              "\n",
              "  <div id=\"df-00bcb7d7-836b-4ced-b445-2daceecf973d\">\n",
              "    <div class=\"colab-df-container\">\n",
              "      <div>\n",
              "<style scoped>\n",
              "    .dataframe tbody tr th:only-of-type {\n",
              "        vertical-align: middle;\n",
              "    }\n",
              "\n",
              "    .dataframe tbody tr th {\n",
              "        vertical-align: top;\n",
              "    }\n",
              "\n",
              "    .dataframe thead th {\n",
              "        text-align: right;\n",
              "    }\n",
              "</style>\n",
              "<table border=\"1\" class=\"dataframe\">\n",
              "  <thead>\n",
              "    <tr style=\"text-align: right;\">\n",
              "      <th></th>\n",
              "      <th>Income</th>\n",
              "      <th>Average_purchases</th>\n",
              "      <th>Last_year_purchases</th>\n",
              "    </tr>\n",
              "  </thead>\n",
              "  <tbody>\n",
              "    <tr>\n",
              "      <th>0</th>\n",
              "      <td>False</td>\n",
              "      <td>False</td>\n",
              "      <td>False</td>\n",
              "    </tr>\n",
              "    <tr>\n",
              "      <th>1</th>\n",
              "      <td>False</td>\n",
              "      <td>False</td>\n",
              "      <td>False</td>\n",
              "    </tr>\n",
              "    <tr>\n",
              "      <th>2</th>\n",
              "      <td>False</td>\n",
              "      <td>False</td>\n",
              "      <td>False</td>\n",
              "    </tr>\n",
              "    <tr>\n",
              "      <th>3</th>\n",
              "      <td>False</td>\n",
              "      <td>False</td>\n",
              "      <td>False</td>\n",
              "    </tr>\n",
              "    <tr>\n",
              "      <th>4</th>\n",
              "      <td>False</td>\n",
              "      <td>False</td>\n",
              "      <td>False</td>\n",
              "    </tr>\n",
              "    <tr>\n",
              "      <th>5</th>\n",
              "      <td>False</td>\n",
              "      <td>False</td>\n",
              "      <td>False</td>\n",
              "    </tr>\n",
              "    <tr>\n",
              "      <th>6</th>\n",
              "      <td>False</td>\n",
              "      <td>False</td>\n",
              "      <td>False</td>\n",
              "    </tr>\n",
              "    <tr>\n",
              "      <th>7</th>\n",
              "      <td>False</td>\n",
              "      <td>False</td>\n",
              "      <td>False</td>\n",
              "    </tr>\n",
              "    <tr>\n",
              "      <th>8</th>\n",
              "      <td>False</td>\n",
              "      <td>False</td>\n",
              "      <td>False</td>\n",
              "    </tr>\n",
              "    <tr>\n",
              "      <th>9</th>\n",
              "      <td>False</td>\n",
              "      <td>False</td>\n",
              "      <td>False</td>\n",
              "    </tr>\n",
              "    <tr>\n",
              "      <th>10</th>\n",
              "      <td>False</td>\n",
              "      <td>False</td>\n",
              "      <td>False</td>\n",
              "    </tr>\n",
              "    <tr>\n",
              "      <th>11</th>\n",
              "      <td>False</td>\n",
              "      <td>False</td>\n",
              "      <td>False</td>\n",
              "    </tr>\n",
              "    <tr>\n",
              "      <th>12</th>\n",
              "      <td>False</td>\n",
              "      <td>False</td>\n",
              "      <td>False</td>\n",
              "    </tr>\n",
              "    <tr>\n",
              "      <th>13</th>\n",
              "      <td>False</td>\n",
              "      <td>False</td>\n",
              "      <td>False</td>\n",
              "    </tr>\n",
              "    <tr>\n",
              "      <th>14</th>\n",
              "      <td>False</td>\n",
              "      <td>False</td>\n",
              "      <td>False</td>\n",
              "    </tr>\n",
              "    <tr>\n",
              "      <th>15</th>\n",
              "      <td>False</td>\n",
              "      <td>False</td>\n",
              "      <td>False</td>\n",
              "    </tr>\n",
              "    <tr>\n",
              "      <th>16</th>\n",
              "      <td>False</td>\n",
              "      <td>False</td>\n",
              "      <td>False</td>\n",
              "    </tr>\n",
              "    <tr>\n",
              "      <th>17</th>\n",
              "      <td>False</td>\n",
              "      <td>False</td>\n",
              "      <td>False</td>\n",
              "    </tr>\n",
              "    <tr>\n",
              "      <th>18</th>\n",
              "      <td>False</td>\n",
              "      <td>False</td>\n",
              "      <td>False</td>\n",
              "    </tr>\n",
              "    <tr>\n",
              "      <th>19</th>\n",
              "      <td>False</td>\n",
              "      <td>False</td>\n",
              "      <td>False</td>\n",
              "    </tr>\n",
              "    <tr>\n",
              "      <th>20</th>\n",
              "      <td>False</td>\n",
              "      <td>False</td>\n",
              "      <td>False</td>\n",
              "    </tr>\n",
              "    <tr>\n",
              "      <th>21</th>\n",
              "      <td>False</td>\n",
              "      <td>False</td>\n",
              "      <td>False</td>\n",
              "    </tr>\n",
              "    <tr>\n",
              "      <th>22</th>\n",
              "      <td>False</td>\n",
              "      <td>False</td>\n",
              "      <td>False</td>\n",
              "    </tr>\n",
              "    <tr>\n",
              "      <th>23</th>\n",
              "      <td>False</td>\n",
              "      <td>False</td>\n",
              "      <td>False</td>\n",
              "    </tr>\n",
              "    <tr>\n",
              "      <th>24</th>\n",
              "      <td>False</td>\n",
              "      <td>False</td>\n",
              "      <td>False</td>\n",
              "    </tr>\n",
              "    <tr>\n",
              "      <th>25</th>\n",
              "      <td>False</td>\n",
              "      <td>False</td>\n",
              "      <td>False</td>\n",
              "    </tr>\n",
              "    <tr>\n",
              "      <th>26</th>\n",
              "      <td>False</td>\n",
              "      <td>False</td>\n",
              "      <td>False</td>\n",
              "    </tr>\n",
              "    <tr>\n",
              "      <th>27</th>\n",
              "      <td>False</td>\n",
              "      <td>False</td>\n",
              "      <td>False</td>\n",
              "    </tr>\n",
              "    <tr>\n",
              "      <th>28</th>\n",
              "      <td>False</td>\n",
              "      <td>False</td>\n",
              "      <td>False</td>\n",
              "    </tr>\n",
              "    <tr>\n",
              "      <th>29</th>\n",
              "      <td>False</td>\n",
              "      <td>False</td>\n",
              "      <td>False</td>\n",
              "    </tr>\n",
              "    <tr>\n",
              "      <th>30</th>\n",
              "      <td>False</td>\n",
              "      <td>False</td>\n",
              "      <td>False</td>\n",
              "    </tr>\n",
              "    <tr>\n",
              "      <th>31</th>\n",
              "      <td>False</td>\n",
              "      <td>False</td>\n",
              "      <td>False</td>\n",
              "    </tr>\n",
              "    <tr>\n",
              "      <th>32</th>\n",
              "      <td>False</td>\n",
              "      <td>False</td>\n",
              "      <td>False</td>\n",
              "    </tr>\n",
              "    <tr>\n",
              "      <th>33</th>\n",
              "      <td>False</td>\n",
              "      <td>False</td>\n",
              "      <td>False</td>\n",
              "    </tr>\n",
              "    <tr>\n",
              "      <th>34</th>\n",
              "      <td>False</td>\n",
              "      <td>False</td>\n",
              "      <td>False</td>\n",
              "    </tr>\n",
              "    <tr>\n",
              "      <th>35</th>\n",
              "      <td>False</td>\n",
              "      <td>False</td>\n",
              "      <td>False</td>\n",
              "    </tr>\n",
              "    <tr>\n",
              "      <th>36</th>\n",
              "      <td>False</td>\n",
              "      <td>False</td>\n",
              "      <td>False</td>\n",
              "    </tr>\n",
              "    <tr>\n",
              "      <th>37</th>\n",
              "      <td>False</td>\n",
              "      <td>False</td>\n",
              "      <td>False</td>\n",
              "    </tr>\n",
              "    <tr>\n",
              "      <th>38</th>\n",
              "      <td>False</td>\n",
              "      <td>False</td>\n",
              "      <td>False</td>\n",
              "    </tr>\n",
              "    <tr>\n",
              "      <th>39</th>\n",
              "      <td>False</td>\n",
              "      <td>False</td>\n",
              "      <td>False</td>\n",
              "    </tr>\n",
              "  </tbody>\n",
              "</table>\n",
              "</div>\n",
              "      <button class=\"colab-df-convert\" onclick=\"convertToInteractive('df-00bcb7d7-836b-4ced-b445-2daceecf973d')\"\n",
              "              title=\"Convert this dataframe to an interactive table.\"\n",
              "              style=\"display:none;\">\n",
              "        \n",
              "  <svg xmlns=\"http://www.w3.org/2000/svg\" height=\"24px\"viewBox=\"0 0 24 24\"\n",
              "       width=\"24px\">\n",
              "    <path d=\"M0 0h24v24H0V0z\" fill=\"none\"/>\n",
              "    <path d=\"M18.56 5.44l.94 2.06.94-2.06 2.06-.94-2.06-.94-.94-2.06-.94 2.06-2.06.94zm-11 1L8.5 8.5l.94-2.06 2.06-.94-2.06-.94L8.5 2.5l-.94 2.06-2.06.94zm10 10l.94 2.06.94-2.06 2.06-.94-2.06-.94-.94-2.06-.94 2.06-2.06.94z\"/><path d=\"M17.41 7.96l-1.37-1.37c-.4-.4-.92-.59-1.43-.59-.52 0-1.04.2-1.43.59L10.3 9.45l-7.72 7.72c-.78.78-.78 2.05 0 2.83L4 21.41c.39.39.9.59 1.41.59.51 0 1.02-.2 1.41-.59l7.78-7.78 2.81-2.81c.8-.78.8-2.07 0-2.86zM5.41 20L4 18.59l7.72-7.72 1.47 1.35L5.41 20z\"/>\n",
              "  </svg>\n",
              "      </button>\n",
              "      \n",
              "  <style>\n",
              "    .colab-df-container {\n",
              "      display:flex;\n",
              "      flex-wrap:wrap;\n",
              "      gap: 12px;\n",
              "    }\n",
              "\n",
              "    .colab-df-convert {\n",
              "      background-color: #E8F0FE;\n",
              "      border: none;\n",
              "      border-radius: 50%;\n",
              "      cursor: pointer;\n",
              "      display: none;\n",
              "      fill: #1967D2;\n",
              "      height: 32px;\n",
              "      padding: 0 0 0 0;\n",
              "      width: 32px;\n",
              "    }\n",
              "\n",
              "    .colab-df-convert:hover {\n",
              "      background-color: #E2EBFA;\n",
              "      box-shadow: 0px 1px 2px rgba(60, 64, 67, 0.3), 0px 1px 3px 1px rgba(60, 64, 67, 0.15);\n",
              "      fill: #174EA6;\n",
              "    }\n",
              "\n",
              "    [theme=dark] .colab-df-convert {\n",
              "      background-color: #3B4455;\n",
              "      fill: #D2E3FC;\n",
              "    }\n",
              "\n",
              "    [theme=dark] .colab-df-convert:hover {\n",
              "      background-color: #434B5C;\n",
              "      box-shadow: 0px 1px 3px 1px rgba(0, 0, 0, 0.15);\n",
              "      filter: drop-shadow(0px 1px 2px rgba(0, 0, 0, 0.3));\n",
              "      fill: #FFFFFF;\n",
              "    }\n",
              "  </style>\n",
              "\n",
              "      <script>\n",
              "        const buttonEl =\n",
              "          document.querySelector('#df-00bcb7d7-836b-4ced-b445-2daceecf973d button.colab-df-convert');\n",
              "        buttonEl.style.display =\n",
              "          google.colab.kernel.accessAllowed ? 'block' : 'none';\n",
              "\n",
              "        async function convertToInteractive(key) {\n",
              "          const element = document.querySelector('#df-00bcb7d7-836b-4ced-b445-2daceecf973d');\n",
              "          const dataTable =\n",
              "            await google.colab.kernel.invokeFunction('convertToInteractive',\n",
              "                                                     [key], {});\n",
              "          if (!dataTable) return;\n",
              "\n",
              "          const docLinkHtml = 'Like what you see? Visit the ' +\n",
              "            '<a target=\"_blank\" href=https://colab.research.google.com/notebooks/data_table.ipynb>data table notebook</a>'\n",
              "            + ' to learn more about interactive tables.';\n",
              "          element.innerHTML = '';\n",
              "          dataTable['output_type'] = 'display_data';\n",
              "          await google.colab.output.renderOutput(dataTable, element);\n",
              "          const docLink = document.createElement('div');\n",
              "          docLink.innerHTML = docLinkHtml;\n",
              "          element.appendChild(docLink);\n",
              "        }\n",
              "      </script>\n",
              "    </div>\n",
              "  </div>\n",
              "  "
            ]
          },
          "metadata": {},
          "execution_count": 6
        }
      ]
    },
    {
      "cell_type": "code",
      "source": [
        "df.isnull().sum()"
      ],
      "metadata": {
        "colab": {
          "base_uri": "https://localhost:8080/"
        },
        "id": "hGmErl__vJP2",
        "outputId": "425aac44-1d3b-4ab4-e54c-baae4209b650"
      },
      "execution_count": 7,
      "outputs": [
        {
          "output_type": "execute_result",
          "data": {
            "text/plain": [
              "Income                 0\n",
              "Average_purchases      0\n",
              "Last_year_purchases    0\n",
              "dtype: int64"
            ]
          },
          "metadata": {},
          "execution_count": 7
        }
      ]
    },
    {
      "cell_type": "markdown",
      "source": [
        "6.Identifikasi data outlier dengan boxplot"
      ],
      "metadata": {
        "id": "2--xc0mgvKnu"
      }
    },
    {
      "cell_type": "code",
      "source": [
        "ax=sns.boxplot(data=df,orient = \"h\",palette=\"Set2\")"
      ],
      "metadata": {
        "colab": {
          "base_uri": "https://localhost:8080/",
          "height": 265
        },
        "id": "4s0T4HelvNIK",
        "outputId": "41f95ade-7d73-4244-88a7-a7047c7c6e6c"
      },
      "execution_count": 8,
      "outputs": [
        {
          "output_type": "display_data",
          "data": {
            "text/plain": [
              "<Figure size 432x288 with 1 Axes>"
            ],
            "image/png": "[encoded data removed]"
          },
          "metadata": {
            "needs_background": "light"
          }
        }
      ]
    },
    {
      "cell_type": "markdown",
      "source": [
        "*hasil tdk ada data outlier"
      ],
      "metadata": {
        "id": "4Qq_1t8OvQuv"
      }
    },
    {
      "cell_type": "markdown",
      "source": [
        "7.Data preprocessing : dilakukan normalisasi/standarisasi z-score dengan menggunakan fungsi StandardScaler  kemudian hasilnya disimpan sebagai sebuah dataframe dengan nama “std_atr” (standardized attibutes)"
      ],
      "metadata": {
        "id": "F4yD78pevTcg"
      }
    },
    {
      "cell_type": "code",
      "source": [
        "from sklearn.preprocessing import StandardScaler\n",
        "scale=StandardScaler()\n",
        "std_atr=scale.fit_transform(df)\n",
        "std_atr=pd.DataFrame(std_atr,columns=df.columns)\n",
        "print(std_atr)"
      ],
      "metadata": {
        "colab": {
          "base_uri": "https://localhost:8080/"
        },
        "id": "F0vn1dA5vWAs",
        "outputId": "539374ec-7ec0-48fd-a1fd-0339b4dc39dc"
      },
      "execution_count": 9,
      "outputs": [
        {
          "output_type": "stream",
          "name": "stdout",
          "text": [
            "      Income  Average_purchases  Last_year_purchases\n",
            "0   0.963035           1.127453             0.139140\n",
            "1  -1.325027          -0.879695            -1.451031\n",
            "2   0.758134          -0.043384             0.536683\n",
            "3   1.031336           0.792928             0.139140\n",
            "4  -1.359177          -1.465113            -1.053488\n",
            "5  -1.188426          -0.816972            -1.053488\n",
            "6   1.406988           1.901041             0.139140\n",
            "7  -1.495778          -1.339667            -1.451031\n",
            "8  -1.427478          -0.942419            -1.053488\n",
            "9   1.031336           1.022914             1.729311\n",
            "10  0.211731           1.399254             1.331768\n",
            "11  0.587383           0.667481             0.536683\n",
            "12  0.382482          -0.733341            -0.258403\n",
            "13  0.484933          -0.712433            -0.258403\n",
            "14  0.245881           1.231991             1.331768\n",
            "15  0.348332          -0.670617            -0.258403\n",
            "16 -1.495778          -1.423298            -1.053488\n",
            "17 -1.256727          -1.046958            -1.451031\n",
            "18  1.167936           1.963764             0.934226\n",
            "19  0.621533           0.312049             1.331768\n",
            "20 -0.505423          -0.336093            -0.258403\n",
            "21 -1.359177          -1.005142            -1.451031\n",
            "22  0.416632          -0.628802            -0.258403\n",
            "23 -1.222577          -0.628802            -1.053488\n",
            "24  0.280032           0.082063             0.139140\n",
            "25  1.543588           1.169268             1.331768\n",
            "26  1.031336           0.960190             1.331768\n",
            "27 -1.359177          -1.172404            -1.053488\n",
            "28  0.075130          -0.127015             0.139140\n",
            "29  1.372837           1.775594             0.536683\n",
            "30 -1.427478          -1.590560            -1.451031\n",
            "31  1.475288           0.772020             0.139140\n",
            "32  0.655684           0.040247             1.729311\n",
            "33 -0.027320           0.583850             0.536683\n",
            "34  0.348332          -0.398816            -0.258403\n",
            "35 -1.427478          -1.151497            -1.451031\n",
            "36  0.689834           0.332957             0.139140\n",
            "37  0.006830          -0.252462             0.139140\n",
            "38  0.211731           0.751112             1.729311\n",
            "39 -0.471273           0.479311             0.536683\n"
          ]
        }
      ]
    },
    {
      "cell_type": "markdown",
      "source": [
        "8. Model tuning\n",
        "Pada algoritma k-means clustering terdapat nilai parameter k, sehingga sebelum diputuskan subjektif nilai k, dapat dilakukan model tuning, misalnya dengan metode Elbow.\n",
        "\n",
        "Nilai inertia akan semakin kecil dengan bertambahnya jumlah cluster dengan nilai k optimal diperoleh dari titik balik, yang mana penurunan inertia sudah relatif “kecil”, dicirikan dengan kurva mulai landai.\n",
        "\n",
        "Input fungsi KMeans:\n"
      ],
      "metadata": {
        "id": "tKKueNl4vX98"
      }
    },
    {
      "cell_type": "code",
      "source": [
        "from sklearn.cluster import KMeans\n",
        "wcss = [] \n",
        "for i in range(1,11):\n",
        "  km=KMeans(n_clusters=i)\n",
        "  km.fit(std_atr)\n",
        "  wcss.append(km.inertia_)\n",
        "plt.figure(figsize=(12,6))\n",
        "plt.plot(range(1,11),wcss)\n",
        "plt.plot(range(1,11),wcss,linewidth=2,color=\"red\",marker=\"8\")\n",
        "plt.xlabel(\"K Value\")\n",
        "plt.xticks(np.arange(1,11,1))\n",
        "plt.ylabel(\"Within-cluster Some of Square\")\n",
        "plt.show()\n"
      ],
      "metadata": {
        "colab": {
          "base_uri": "https://localhost:8080/",
          "height": 388
        },
        "id": "KzAemz0EvetW",
        "outputId": "06e082ef-e49f-4e8f-fcf1-6849c02b5a1f"
      },
      "execution_count": 11,
      "outputs": [
        {
          "output_type": "display_data",
          "data": {
            "text/plain": [
              "<Figure size 864x432 with 1 Axes>"
            ],
            "image/png": "[encoded data removed]"
          },
          "metadata": {
            "needs_background": "light"
          }
        }
      ]
    },
    {
      "cell_type": "markdown",
      "source": [
        "*pada Kvalue ketiga mulai terjadi pengecilan penurunan, kemungkinan pada nilai tersebut merupakan KValue yg optimal\n",
        "\n",
        "Untuk lebih meyakinkan berapa nilai k optimal, dilakukan analisa silhouette coefficient berdasarkan konfigurasi setiap anggota clusternya. Visualisasi dilakukan dengan menggunakan fungsi SilhouetteVisualizer.\n"
      ],
      "metadata": {
        "id": "uX3MWo7VvplM"
      }
    },
    {
      "cell_type": "code",
      "source": [
        "from yellowbrick.cluster import SilhouetteVisualizer\n",
        "model=KMeans(3,random_state=42)\n",
        "visualizer=SilhouetteVisualizer(model,colors='yellowbrick')\n",
        "visualizer.fit(std_atr)\n"
      ],
      "metadata": {
        "colab": {
          "base_uri": "https://localhost:8080/",
          "height": 399
        },
        "id": "tAKQIRHHvq6V",
        "outputId": "dc3b72ad-8f49-4bc6-f1e9-8fe843fd6567"
      },
      "execution_count": 12,
      "outputs": [
        {
          "output_type": "execute_result",
          "data": {
            "text/plain": [
              "SilhouetteVisualizer(ax=<matplotlib.axes._subplots.AxesSubplot object at 0x7f6439b75640>,\n",
              "                     colors='yellowbrick',\n",
              "                     estimator=KMeans(n_clusters=3, random_state=42))"
            ]
          },
          "metadata": {},
          "execution_count": 12
        },
        {
          "output_type": "display_data",
          "data": {
            "text/plain": [
              "<Figure size 576x396 with 1 Axes>"
            ],
            "image/png": "[encoded data removed]"
          },
          "metadata": {}
        }
      ]
    },
    {
      "cell_type": "markdown",
      "source": [
        "*Hasil : semua objek data memiliki skor silhouette positif, hal ini mengindikasikan bahwa objek-objek sudah dikelompokkan pada konfigurasi yang sesuai.\n",
        "\n",
        "Menampilkan skor silhouette coefficient  pada k=3, dan nilai-nilai k yang lain\n"
      ],
      "metadata": {
        "id": "Ziqkc051vtY4"
      }
    },
    {
      "cell_type": "code",
      "source": [
        "from sklearn.metrics import silhouette_score\n",
        "km=KMeans(n_clusters=3,random_state=42)\n",
        "km.fit(std_atr)\n",
        "score=silhouette_score(std_atr,km.labels_)\n",
        "print('SilhouetterScore : %.3f' % score)\n",
        "\n",
        "from sklearn.metrics import silhouette_score\n",
        "k_cluster = []\n",
        "sil_coeffecients = []\n",
        "\n",
        "\n",
        "for n_cluster in range(2,15):\n",
        "  kmeans = KMeans(n_clusters=n_cluster).fit(std_atr)\n",
        "  label = kmeans.labels_\n",
        "  sil_coeff = silhouette_score(std_atr, label)\n",
        "  print(\"For n_clusters={}, Silhouette coeffecient = {}\".format(n_cluster , sil_coeff))\n",
        "  sil_coeffecients.append(sil_coeff)\n",
        "  k_cluster.append(n_cluster)\n",
        "\n",
        "plt.plot(k_cluster,sil_coeffecients)\n",
        "plt.ylabel('Silhouette coeffecient')\n",
        "plt.xlabel('No. of Clusters')\n",
        "plt.show()\n"
      ],
      "metadata": {
        "colab": {
          "base_uri": "https://localhost:8080/",
          "height": 631
        },
        "id": "BIPIlUalvul-",
        "outputId": "d73c6c27-04d0-490e-a1a4-02ea4099bf21"
      },
      "execution_count": 35,
      "outputs": [
        {
          "output_type": "stream",
          "name": "stdout",
          "text": [
            "SilhouetterScore : 0.520\n",
            "For n_clusters=2, Silhouette coeffecient = 0.5756607240004831\n",
            "For n_clusters=3, Silhouette coeffecient = 0.5197049948622443\n",
            "For n_clusters=4, Silhouette coeffecient = 0.5267147220269506\n",
            "For n_clusters=5, Silhouette coeffecient = 0.48027850753668916\n",
            "For n_clusters=6, Silhouette coeffecient = 0.5069249121555096\n",
            "For n_clusters=7, Silhouette coeffecient = 0.5033221437686499\n",
            "For n_clusters=8, Silhouette coeffecient = 0.536313289850898\n",
            "For n_clusters=9, Silhouette coeffecient = 0.53685137242953\n",
            "For n_clusters=10, Silhouette coeffecient = 0.3981363276649469\n",
            "For n_clusters=11, Silhouette coeffecient = 0.433866400100106\n",
            "For n_clusters=12, Silhouette coeffecient = 0.42184231424597013\n",
            "For n_clusters=13, Silhouette coeffecient = 0.44318926436870676\n",
            "For n_clusters=14, Silhouette coeffecient = 0.4109616164052987\n"
          ]
        },
        {
          "output_type": "display_data",
          "data": {
            "text/plain": [
              "<Figure size 576x396 with 1 Axes>"
            ],
            "image/png": "[encoded data removed]"
          },
          "metadata": {}
        }
      ]
    },
    {
      "cell_type": "markdown",
      "source": [
        "9. Model building.\n",
        "Setelah nilai k terpilih (k=3), selanjutnya dilakukan pembangunan model 3-means clustering  dengan menggunakan fungsi Kmeans dan input atribut-atribut yang sudah dinormalisasi. Hasil dari clustering disajikan dalam sebuah dataframe dengan nama “hasil”."
      ],
      "metadata": {
        "id": "_cwiOdehxdMo"
      }
    },
    {
      "cell_type": "code",
      "source": [
        "model=KMeans(init=\"random\",n_clusters=3)\n",
        "model.fit(std_atr)\n",
        "print('inertia:',model.inertia_)\n",
        "print('cluster_centroids:',model.cluster_centers_)\n",
        "\n",
        "clt=model.labels_\n",
        "hasil=pd.Series(clt,name=\"Cluster\")\n",
        "hasil=pd.DataFrame(hasil)\n"
      ],
      "metadata": {
        "colab": {
          "base_uri": "https://localhost:8080/"
        },
        "id": "jG3jwdBExhWc",
        "outputId": "1550cee9-adfd-48ba-c4ee-4dd53e339277"
      },
      "execution_count": 25,
      "outputs": [
        {
          "output_type": "stream",
          "name": "stdout",
          "text": [
            "inertia: 19.812698382869723\n",
            "cluster_centroids: [[ 0.21435809 -0.18652161  0.04739934]\n",
            " [-1.36202323 -1.12187713 -1.25225991]\n",
            " [ 0.90384157  1.05915376  0.9607285 ]]\n"
          ]
        }
      ]
    },
    {
      "cell_type": "markdown",
      "source": [
        "10.Model visualization"
      ],
      "metadata": {
        "id": "Y8Yph2K2xm2j"
      }
    },
    {
      "cell_type": "markdown",
      "source": [
        "Hasil dari clustering selanjutnya dapat dilakukan visualisasi kedalam plot 2 dimensi. Dengan jumlah atribut sebanyak 3, untuk membuat plot 2 dimensi dapat dilakukan teknik reduksi data dengan PCA."
      ],
      "metadata": {
        "id": "zSksvTM1xqzc"
      }
    },
    {
      "cell_type": "code",
      "source": [
        "from sklearn.pipeline import Pipeline\n",
        "from sklearn.preprocessing import LabelEncoder, StandardScaler\n",
        "from sklearn.decomposition import PCA\n",
        "preprocessor=Pipeline([(\"scaler\",StandardScaler()),(\"pca\",PCA(n_components=2,random_state=42)),])\n",
        "clusterer=Pipeline([(\"kmeans\",KMeans(n_clusters=3,init=\"k-means++\",n_init=50,max_iter=500,random_state=42,),),])\n",
        "pipe=Pipeline([(\"preprocessor\",preprocessor),(\"clusterer\",clusterer)])\n",
        "pipe.fit(df)\n",
        "\n",
        "preprocessor_data=pipe[\"preprocessor\"].transform(df)\n",
        "predicted_labels=pipe[\"clusterer\"][\"kmeans\"].labels_\n",
        "\n",
        "pcadf=pd.DataFrame(pipe[\"preprocessor\"].transform(df),columns=[\"Dim 1\",\"Dim 2\"],)\n",
        "pcadf[\"predicted_cluster\"]=pipe[\"clusterer\"][\"kmeans\"].labels_\n",
        "\n",
        "plt.style.use(\"fivethirtyeight\")\n",
        "plt.figure(figsize=(8,8))\n",
        "scat=sns.scatterplot(\"Dim 1\",\"Dim 2\", s=50,data=pcadf,hue=\"predicted_cluster\", palette=\"Set1\",)\n",
        "scat.set_title(\"Representasi 20 Customer Segmentation\")\n",
        "plt.show()\n"
      ],
      "metadata": {
        "colab": {
          "base_uri": "https://localhost:8080/",
          "height": 609
        },
        "id": "O6geGn-rxr1k",
        "outputId": "b305baa6-2d25-4f30-ad1d-af4c9e8a4007"
      },
      "execution_count": 33,
      "outputs": [
        {
          "output_type": "stream",
          "name": "stderr",
          "text": [
            "/usr/local/lib/python3.8/dist-packages/seaborn/_decorators.py:36: FutureWarning: Pass the following variables as keyword args: x, y. From version 0.12, the only valid positional argument will be `data`, and passing other arguments without an explicit keyword will result in an error or misinterpretation.\n",
            "  warnings.warn(\n"
          ]
        },
        {
          "output_type": "display_data",
          "data": {
            "text/plain": [
              "<Figure size 576x576 with 1 Axes>"
            ],
            "image/png": "[encoded data removed]"
          },
          "metadata": {}
        }
      ]
    },
    {
      "cell_type": "markdown",
      "source": [
        "11.Result"
      ],
      "metadata": {
        "id": "90-MgSXDzcPP"
      }
    },
    {
      "cell_type": "markdown",
      "source": [
        "Dari data std_atr dan centroid, didapatkan pembagian klusterisasi utk masing2 data:\n",
        "\n",
        "Cluster mana yg terbaik dilihat dari hasil point 9. Centroid-nya\n"
      ],
      "metadata": {
        "id": "HzlaQdLOzeAi"
      }
    }
  ]
}